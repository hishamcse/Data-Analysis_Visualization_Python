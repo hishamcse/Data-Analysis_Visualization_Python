{
  "nbformat": 4,
  "nbformat_minor": 0,
  "metadata": {
    "colab": {
      "name": "Practice_NumpyOperations.ipynb",
      "provenance": []
    },
    "kernelspec": {
      "name": "python3",
      "display_name": "Python 3"
    }
  },
  "cells": [
    {
      "cell_type": "code",
      "metadata": {
        "id": "AFoNG7fJV4MZ",
        "colab": {
          "base_uri": "https://localhost:8080/"
        },
        "outputId": "204fbc35-a14b-4370-8e62-364f6199dfd5"
      },
      "source": [
        "import numpy as np\r\n",
        "arr = np.arange(0,11)\r\n",
        "arr"
      ],
      "execution_count": null,
      "outputs": [
        {
          "output_type": "execute_result",
          "data": {
            "text/plain": [
              "array([ 0,  1,  2,  3,  4,  5,  6,  7,  8,  9, 10])"
            ]
          },
          "metadata": {
            "tags": []
          },
          "execution_count": 3
        }
      ]
    },
    {
      "cell_type": "code",
      "metadata": {
        "colab": {
          "base_uri": "https://localhost:8080/"
        },
        "id": "4RyYI0GmXDa-",
        "outputId": "993e1d7e-beed-4521-d885-d40af5f15618"
      },
      "source": [
        "arr2 = np.arange(0,21,2)\r\n",
        "arr2"
      ],
      "execution_count": null,
      "outputs": [
        {
          "output_type": "execute_result",
          "data": {
            "text/plain": [
              "array([ 0,  2,  4,  6,  8, 10, 12, 14, 16, 18, 20])"
            ]
          },
          "metadata": {
            "tags": []
          },
          "execution_count": 4
        }
      ]
    },
    {
      "cell_type": "code",
      "metadata": {
        "colab": {
          "base_uri": "https://localhost:8080/"
        },
        "id": "BMkD1-V-XJlu",
        "outputId": "1dad1ad4-0b42-4bd4-e395-3778be35cb5e"
      },
      "source": [
        "print(arr+arr2)\r\n",
        "print(arr-arr2)\r\n",
        "print(arr*arr2)\r\n",
        "print(arr/arr2)"
      ],
      "execution_count": null,
      "outputs": [
        {
          "output_type": "stream",
          "text": [
            "[ 0  3  6  9 12 15 18 21 24 27 30]\n",
            "[  0  -1  -2  -3  -4  -5  -6  -7  -8  -9 -10]\n",
            "[  0   2   8  18  32  50  72  98 128 162 200]\n",
            "[nan 0.5 0.5 0.5 0.5 0.5 0.5 0.5 0.5 0.5 0.5]\n"
          ],
          "name": "stdout"
        },
        {
          "output_type": "stream",
          "text": [
            "/usr/local/lib/python3.6/dist-packages/ipykernel_launcher.py:4: RuntimeWarning: invalid value encountered in true_divide\n",
            "  after removing the cwd from sys.path.\n"
          ],
          "name": "stderr"
        }
      ]
    },
    {
      "cell_type": "code",
      "metadata": {
        "colab": {
          "base_uri": "https://localhost:8080/"
        },
        "id": "zZTIyxMUXXX7",
        "outputId": "0421d2b6-c6e0-45f1-fbc5-7f351aa94926"
      },
      "source": [
        "print(arr+3)\r\n",
        "print(arr-4)\r\n",
        "print(arr*4)\r\n",
        "print(arr/2)\r\n",
        "print(arr**2)\r\n",
        "print(arr**arr2)"
      ],
      "execution_count": null,
      "outputs": [
        {
          "output_type": "stream",
          "text": [
            "[ 3  4  5  6  7  8  9 10 11 12 13]\n",
            "[-4 -3 -2 -1  0  1  2  3  4  5  6]\n",
            "[ 0  4  8 12 16 20 24 28 32 36 40]\n",
            "[0.  0.5 1.  1.5 2.  2.5 3.  3.5 4.  4.5 5. ]\n",
            "[  0   1   4   9  16  25  36  49  64  81 100]\n",
            "[                  1                   1                  16\n",
            "                 729               65536             9765625\n",
            "          2176782336        678223072849     281474976710656\n",
            "  150094635296999121 7766279631452241920]\n"
          ],
          "name": "stdout"
        }
      ]
    },
    {
      "cell_type": "code",
      "metadata": {
        "colab": {
          "base_uri": "https://localhost:8080/"
        },
        "id": "2yQuh4ZbW2bq",
        "outputId": "b0fdef0e-da21-4e5d-d8a2-046b338cd184"
      },
      "source": [
        "print(np.sqrt(arr))\r\n",
        "print(np.exp(arr))\r\n",
        "print(np.max(arr))"
      ],
      "execution_count": null,
      "outputs": [
        {
          "output_type": "stream",
          "text": [
            "[0.         1.         1.41421356 1.73205081 2.         2.23606798\n",
            " 2.44948974 2.64575131 2.82842712 3.         3.16227766]\n",
            "[1.00000000e+00 2.71828183e+00 7.38905610e+00 2.00855369e+01\n",
            " 5.45981500e+01 1.48413159e+02 4.03428793e+02 1.09663316e+03\n",
            " 2.98095799e+03 8.10308393e+03 2.20264658e+04]\n",
            "10\n"
          ],
          "name": "stdout"
        }
      ]
    },
    {
      "cell_type": "code",
      "metadata": {
        "colab": {
          "base_uri": "https://localhost:8080/"
        },
        "id": "3FWb96fiXPhy",
        "outputId": "14a73f47-b1b8-4b15-a254-b978dcfc5855"
      },
      "source": [
        "print(np.sin(arr))\r\n",
        "print(np.tan(arr))\r\n",
        "print(np.arcsin(arr))"
      ],
      "execution_count": null,
      "outputs": [
        {
          "output_type": "stream",
          "text": [
            "[ 0.          0.84147098  0.90929743  0.14112001 -0.7568025  -0.95892427\n",
            " -0.2794155   0.6569866   0.98935825  0.41211849 -0.54402111]\n",
            "[ 0.          1.55740772 -2.18503986 -0.14254654  1.15782128 -3.38051501\n",
            " -0.29100619  0.87144798 -6.79971146 -0.45231566  0.64836083]\n",
            "[0.         1.57079633        nan        nan        nan        nan\n",
            "        nan        nan        nan        nan        nan]\n"
          ],
          "name": "stdout"
        },
        {
          "output_type": "stream",
          "text": [
            "/usr/local/lib/python3.6/dist-packages/ipykernel_launcher.py:3: RuntimeWarning: invalid value encountered in arcsin\n",
            "  This is separate from the ipykernel package so we can avoid doing imports until\n"
          ],
          "name": "stderr"
        }
      ]
    },
    {
      "cell_type": "code",
      "metadata": {
        "colab": {
          "base_uri": "https://localhost:8080/"
        },
        "id": "5BdelF4qXcog",
        "outputId": "c45f860f-5db3-4325-f02c-3a2b8fa2162b"
      },
      "source": [
        "print(np.log(arr))\r\n",
        "print(np.log10(arr))"
      ],
      "execution_count": null,
      "outputs": [
        {
          "output_type": "stream",
          "text": [
            "[      -inf 0.         0.69314718 1.09861229 1.38629436 1.60943791\n",
            " 1.79175947 1.94591015 2.07944154 2.19722458 2.30258509]\n",
            "[      -inf 0.         0.30103    0.47712125 0.60205999 0.69897\n",
            " 0.77815125 0.84509804 0.90308999 0.95424251 1.        ]\n"
          ],
          "name": "stdout"
        },
        {
          "output_type": "stream",
          "text": [
            "/usr/local/lib/python3.6/dist-packages/ipykernel_launcher.py:1: RuntimeWarning: divide by zero encountered in log\n",
            "  \"\"\"Entry point for launching an IPython kernel.\n",
            "/usr/local/lib/python3.6/dist-packages/ipykernel_launcher.py:2: RuntimeWarning: divide by zero encountered in log10\n",
            "  \n"
          ],
          "name": "stderr"
        }
      ]
    },
    {
      "cell_type": "markdown",
      "metadata": {
        "id": "pmsbDFyTXwo7"
      },
      "source": [
        "// for more univeral functions, see the documentation of numpy for universal functions\r\n",
        "https://numpy.org/doc/stable/reference/ufuncs.html\r\n",
        "\r\n"
      ]
    }
  ]
}