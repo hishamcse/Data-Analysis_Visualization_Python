{
  "nbformat": 4,
  "nbformat_minor": 0,
  "metadata": {
    "colab": {
      "name": "Practice_NumpyArray.ipynb",
      "provenance": [],
      "collapsed_sections": []
    },
    "kernelspec": {
      "name": "python3",
      "display_name": "Python 3"
    }
  },
  "cells": [
    {
      "cell_type": "code",
      "metadata": {
        "colab": {
          "base_uri": "https://localhost:8080/"
        },
        "id": "O16OkJyX41uL",
        "outputId": "e4aec646-3f41-49df-b574-be26fa71a669"
      },
      "source": [
        "my_list = [1,2,3]\r\n",
        "my_list"
      ],
      "execution_count": null,
      "outputs": [
        {
          "output_type": "execute_result",
          "data": {
            "text/plain": [
              "[1, 2, 3]"
            ]
          },
          "metadata": {
            "tags": []
          },
          "execution_count": 5
        }
      ]
    },
    {
      "cell_type": "code",
      "metadata": {
        "colab": {
          "base_uri": "https://localhost:8080/"
        },
        "id": "5um8feSCPW3r",
        "outputId": "45f6f84b-2faf-45bf-98fb-0bea266be56d"
      },
      "source": [
        "import numpy as np\r\n",
        "arr = np.array(my_list)\r\n",
        "print(arr)   \r\n",
        "arr"
      ],
      "execution_count": null,
      "outputs": [
        {
          "output_type": "stream",
          "text": [
            "[1 2 3]\n"
          ],
          "name": "stdout"
        },
        {
          "output_type": "execute_result",
          "data": {
            "text/plain": [
              "array([1, 2, 3])"
            ]
          },
          "metadata": {
            "tags": []
          },
          "execution_count": 11
        }
      ]
    },
    {
      "cell_type": "code",
      "metadata": {
        "colab": {
          "base_uri": "https://localhost:8080/"
        },
        "id": "ZLx57DWAQIjO",
        "outputId": "f78382b7-c0c2-427e-c8b6-e3ba41a46241"
      },
      "source": [
        "my_mat = [[1,2,3],[4,5,6],[7,8,9]]\r\n",
        "my_mat"
      ],
      "execution_count": null,
      "outputs": [
        {
          "output_type": "execute_result",
          "data": {
            "text/plain": [
              "[[1, 2, 3], [4, 5, 6], [7, 8, 9]]"
            ]
          },
          "metadata": {
            "tags": []
          },
          "execution_count": 12
        }
      ]
    },
    {
      "cell_type": "code",
      "metadata": {
        "colab": {
          "base_uri": "https://localhost:8080/"
        },
        "id": "SLaJGyWTQPLl",
        "outputId": "91f12fe0-7da4-4222-81e5-066493ed1947"
      },
      "source": [
        "np.array(my_mat)"
      ],
      "execution_count": null,
      "outputs": [
        {
          "output_type": "execute_result",
          "data": {
            "text/plain": [
              "array([[1, 2, 3],\n",
              "       [4, 5, 6],\n",
              "       [7, 8, 9]])"
            ]
          },
          "metadata": {
            "tags": []
          },
          "execution_count": 14
        }
      ]
    },
    {
      "cell_type": "code",
      "metadata": {
        "colab": {
          "base_uri": "https://localhost:8080/"
        },
        "id": "S9gk6RvKUO4C",
        "outputId": "e00a651a-cd1f-4b74-9b15-bd9083dc2243"
      },
      "source": [
        "print(np.arange(0,11))\r\n",
        "print(np.arange(0,11,2))\r\n",
        "np.arange(1,11,2)"
      ],
      "execution_count": null,
      "outputs": [
        {
          "output_type": "stream",
          "text": [
            "[ 0  1  2  3  4  5  6  7  8  9 10]\n",
            "[ 0  2  4  6  8 10]\n"
          ],
          "name": "stdout"
        },
        {
          "output_type": "execute_result",
          "data": {
            "text/plain": [
              "array([1, 3, 5, 7, 9])"
            ]
          },
          "metadata": {
            "tags": []
          },
          "execution_count": 21
        }
      ]
    },
    {
      "cell_type": "code",
      "metadata": {
        "colab": {
          "base_uri": "https://localhost:8080/"
        },
        "id": "Dhf9j96CVcq4",
        "outputId": "991812b8-8542-4821-864d-189c9de4dd4d"
      },
      "source": [
        "print(np.zeros(5))\r\n",
        "np.zeros((4,7))"
      ],
      "execution_count": null,
      "outputs": [
        {
          "output_type": "stream",
          "text": [
            "[0. 0. 0. 0. 0.]\n"
          ],
          "name": "stdout"
        },
        {
          "output_type": "execute_result",
          "data": {
            "text/plain": [
              "array([[0., 0., 0., 0., 0., 0., 0.],\n",
              "       [0., 0., 0., 0., 0., 0., 0.],\n",
              "       [0., 0., 0., 0., 0., 0., 0.],\n",
              "       [0., 0., 0., 0., 0., 0., 0.]])"
            ]
          },
          "metadata": {
            "tags": []
          },
          "execution_count": 24
        }
      ]
    },
    {
      "cell_type": "code",
      "metadata": {
        "colab": {
          "base_uri": "https://localhost:8080/"
        },
        "id": "Ifg2lq_HX27j",
        "outputId": "173ed965-bd5b-4647-c1b9-fa29aee435d0"
      },
      "source": [
        "np.ones((3,5))"
      ],
      "execution_count": null,
      "outputs": [
        {
          "output_type": "execute_result",
          "data": {
            "text/plain": [
              "array([[1., 1., 1., 1., 1.],\n",
              "       [1., 1., 1., 1., 1.],\n",
              "       [1., 1., 1., 1., 1.]])"
            ]
          },
          "metadata": {
            "tags": []
          },
          "execution_count": 27
        }
      ]
    },
    {
      "cell_type": "code",
      "metadata": {
        "colab": {
          "base_uri": "https://localhost:8080/"
        },
        "id": "PeBmc0QKYtVW",
        "outputId": "8a39f3a4-6053-4151-999f-f24eb9bdea15"
      },
      "source": [
        "np.linspace(0,10,50)"
      ],
      "execution_count": null,
      "outputs": [
        {
          "output_type": "execute_result",
          "data": {
            "text/plain": [
              "array([ 0.        ,  0.20408163,  0.40816327,  0.6122449 ,  0.81632653,\n",
              "        1.02040816,  1.2244898 ,  1.42857143,  1.63265306,  1.83673469,\n",
              "        2.04081633,  2.24489796,  2.44897959,  2.65306122,  2.85714286,\n",
              "        3.06122449,  3.26530612,  3.46938776,  3.67346939,  3.87755102,\n",
              "        4.08163265,  4.28571429,  4.48979592,  4.69387755,  4.89795918,\n",
              "        5.10204082,  5.30612245,  5.51020408,  5.71428571,  5.91836735,\n",
              "        6.12244898,  6.32653061,  6.53061224,  6.73469388,  6.93877551,\n",
              "        7.14285714,  7.34693878,  7.55102041,  7.75510204,  7.95918367,\n",
              "        8.16326531,  8.36734694,  8.57142857,  8.7755102 ,  8.97959184,\n",
              "        9.18367347,  9.3877551 ,  9.59183673,  9.79591837, 10.        ])"
            ]
          },
          "metadata": {
            "tags": []
          },
          "execution_count": 28
        }
      ]
    },
    {
      "cell_type": "code",
      "metadata": {
        "colab": {
          "base_uri": "https://localhost:8080/"
        },
        "id": "cOHH2TCLbU32",
        "outputId": "06f91726-0e7a-453c-daa4-5ec3c5db22c7"
      },
      "source": [
        "np.eye(4)"
      ],
      "execution_count": null,
      "outputs": [
        {
          "output_type": "execute_result",
          "data": {
            "text/plain": [
              "array([[1., 0., 0., 0.],\n",
              "       [0., 1., 0., 0.],\n",
              "       [0., 0., 1., 0.],\n",
              "       [0., 0., 0., 1.]])"
            ]
          },
          "metadata": {
            "tags": []
          },
          "execution_count": 29
        }
      ]
    },
    {
      "cell_type": "code",
      "metadata": {
        "colab": {
          "base_uri": "https://localhost:8080/"
        },
        "id": "tXUWu6KnbjLG",
        "outputId": "6525d802-d53e-44c5-e4a6-768c23eeb7ba"
      },
      "source": [
        "print(np.random.rand(10))\r\n",
        "np.random.rand(5,6)"
      ],
      "execution_count": null,
      "outputs": [
        {
          "output_type": "stream",
          "text": [
            "[0.25459585 0.29237729 0.01867768 0.91693815 0.61652077 0.94041389\n",
            " 0.98803258 0.42913674 0.98882066 0.10911392]\n"
          ],
          "name": "stdout"
        },
        {
          "output_type": "execute_result",
          "data": {
            "text/plain": [
              "array([[0.4620894 , 0.29905702, 0.53694686, 0.3352707 , 0.00340222,\n",
              "        0.03834636],\n",
              "       [0.34550525, 0.79998282, 0.74823326, 0.89131891, 0.24852361,\n",
              "        0.80345511],\n",
              "       [0.74318645, 0.86900575, 0.47250387, 0.33109558, 0.72926993,\n",
              "        0.36522197],\n",
              "       [0.50634135, 0.68088582, 0.68457507, 0.90652797, 0.34321689,\n",
              "        0.91002672],\n",
              "       [0.31699863, 0.85424418, 0.49010703, 0.62823221, 0.60394947,\n",
              "        0.16348853]])"
            ]
          },
          "metadata": {
            "tags": []
          },
          "execution_count": 33
        }
      ]
    },
    {
      "cell_type": "code",
      "metadata": {
        "colab": {
          "base_uri": "https://localhost:8080/"
        },
        "id": "RpeZ55o0w1BN",
        "outputId": "08944818-fae7-4b37-8555-5818c7c9bf07"
      },
      "source": [
        "np.random.randn(100)"
      ],
      "execution_count": null,
      "outputs": [
        {
          "output_type": "execute_result",
          "data": {
            "text/plain": [
              "array([ 0.19383826, -0.7009697 ,  0.99340426,  0.1813842 ,  1.40489585,\n",
              "        1.05868737, -1.42828802,  0.3213308 ,  2.3325281 ,  0.90563482,\n",
              "       -1.97119644, -0.49526584,  1.01051972,  0.17049809,  0.41065541,\n",
              "       -1.04097321, -0.34474324, -0.10724172,  0.87652874,  1.17753269,\n",
              "       -0.9359146 ,  1.02827349,  1.24668937,  1.30411257, -0.71254327,\n",
              "        0.04996283, -0.5798432 ,  0.42497238, -0.19220682,  0.4735217 ,\n",
              "        0.94862692,  0.61613261, -1.4877397 , -1.09620911, -0.34463557,\n",
              "        0.83182283, -0.79835785, -0.67843775, -0.56675452, -0.4135528 ,\n",
              "       -0.90713473,  0.89530662, -0.82024943,  1.17319319, -0.70207864,\n",
              "       -0.41444507,  0.27872055,  1.29633972, -0.19516287, -2.20733982,\n",
              "       -0.96406159, -0.00488903, -0.62611485, -0.85467592,  0.01981632,\n",
              "       -0.15414615, -0.2372996 ,  0.50252823,  0.83587848, -1.45321941,\n",
              "        0.18319724, -1.06479577,  2.12546535, -0.44058711, -0.9722195 ,\n",
              "       -2.71415466,  0.31665722,  0.79079489,  0.99578408, -1.63817954,\n",
              "        0.90802677,  0.37591127,  0.48774087, -0.58228086, -0.46951711,\n",
              "        0.30876126, -0.31890139, -0.1683033 ,  1.49723143, -0.66102484,\n",
              "        0.39521202,  0.47788162, -1.09165313, -1.37112165,  0.54463189,\n",
              "        2.23672316,  0.66880927, -0.92120101,  0.51989115, -0.87808632,\n",
              "        0.03285388,  1.26227212, -1.55741593, -1.207781  , -0.69609249,\n",
              "       -1.93274916,  0.8793398 ,  0.03191558, -1.06935174,  2.34553004])"
            ]
          },
          "metadata": {
            "tags": []
          },
          "execution_count": 34
        }
      ]
    },
    {
      "cell_type": "code",
      "metadata": {
        "colab": {
          "base_uri": "https://localhost:8080/"
        },
        "id": "2-Bh7U8qzB0x",
        "outputId": "e4df0f9c-326f-4f27-aef2-7b2db5bc1843"
      },
      "source": [
        "print(np.random.randint(10,50,20))\r\n",
        "np.random.randint(10,50)"
      ],
      "execution_count": null,
      "outputs": [
        {
          "output_type": "stream",
          "text": [
            "[23 18 15 31 48 26 32 38 42 20 42 30 38 34 18 45 47 38 21 43]\n"
          ],
          "name": "stdout"
        },
        {
          "output_type": "execute_result",
          "data": {
            "text/plain": [
              "25"
            ]
          },
          "metadata": {
            "tags": []
          },
          "execution_count": 37
        }
      ]
    },
    {
      "cell_type": "code",
      "metadata": {
        "colab": {
          "base_uri": "https://localhost:8080/"
        },
        "id": "FCswaJTy38hg",
        "outputId": "325f864e-2507-40ca-9bba-113d1b83ff42"
      },
      "source": [
        "arr = np.arange(0,25)\r\n",
        "ranarr = np.random.randint(0,25,10)\r\n",
        "\r\n",
        "print(np.reshape(ranarr,(2,5)))\r\n",
        "print(np.reshape(arr,25))\r\n",
        "\r\n",
        "print(arr.reshape(5,5))\r\n",
        "print(ranarr.reshape(2,5))"
      ],
      "execution_count": null,
      "outputs": [
        {
          "output_type": "stream",
          "text": [
            "[[24  3 13 17 20]\n",
            " [15 14 19  1  6]]\n",
            "[ 0  1  2  3  4  5  6  7  8  9 10 11 12 13 14 15 16 17 18 19 20 21 22 23\n",
            " 24]\n",
            "[[ 0  1  2  3  4]\n",
            " [ 5  6  7  8  9]\n",
            " [10 11 12 13 14]\n",
            " [15 16 17 18 19]\n",
            " [20 21 22 23 24]]\n",
            "[[24  3 13 17 20]\n",
            " [15 14 19  1  6]]\n"
          ],
          "name": "stdout"
        }
      ]
    },
    {
      "cell_type": "code",
      "metadata": {
        "colab": {
          "base_uri": "https://localhost:8080/"
        },
        "id": "db8x06164V5u",
        "outputId": "fc838241-b491-467f-ef80-c5ab13a1217b"
      },
      "source": [
        "print(np.max(arr))\r\n",
        "print(np.min(ranarr))\r\n",
        "\r\n",
        "print(arr.max())\r\n",
        "print(ranarr.min())"
      ],
      "execution_count": null,
      "outputs": [
        {
          "output_type": "stream",
          "text": [
            "24\n",
            "0\n",
            "24\n",
            "0\n"
          ],
          "name": "stdout"
        }
      ]
    },
    {
      "cell_type": "code",
      "metadata": {
        "colab": {
          "base_uri": "https://localhost:8080/"
        },
        "id": "Lat1tCS555Us",
        "outputId": "24f6a0d4-bd8a-4d80-9240-30e6d10c38fe"
      },
      "source": [
        "print(np.argmax(arr))\r\n",
        "print(np.argmin(ranarr))\r\n",
        "\r\n",
        "print(arr.argmax())\r\n",
        "print(ranarr.argmin())"
      ],
      "execution_count": null,
      "outputs": [
        {
          "output_type": "stream",
          "text": [
            "24\n",
            "8\n",
            "24\n",
            "8\n"
          ],
          "name": "stdout"
        }
      ]
    },
    {
      "cell_type": "code",
      "metadata": {
        "colab": {
          "base_uri": "https://localhost:8080/"
        },
        "id": "KDaB-kSa6gov",
        "outputId": "67b2c953-fef2-43e5-a81e-0b7a729feee1"
      },
      "source": [
        "print(arr.shape)\r\n",
        "ranarr.shape"
      ],
      "execution_count": null,
      "outputs": [
        {
          "output_type": "stream",
          "text": [
            "(25,)\n"
          ],
          "name": "stdout"
        },
        {
          "output_type": "execute_result",
          "data": {
            "text/plain": [
              "(10,)"
            ]
          },
          "metadata": {
            "tags": []
          },
          "execution_count": 59
        }
      ]
    },
    {
      "cell_type": "code",
      "metadata": {
        "colab": {
          "base_uri": "https://localhost:8080/"
        },
        "id": "9AqXQQEk7BKU",
        "outputId": "78487bb3-bee3-4dad-d88a-f202fd1cd94b"
      },
      "source": [
        "arr.dtype"
      ],
      "execution_count": null,
      "outputs": [
        {
          "output_type": "execute_result",
          "data": {
            "text/plain": [
              "dtype('int64')"
            ]
          },
          "metadata": {
            "tags": []
          },
          "execution_count": 60
        }
      ]
    },
    {
      "cell_type": "code",
      "metadata": {
        "colab": {
          "base_uri": "https://localhost:8080/"
        },
        "id": "UOjiDRKx7o2p",
        "outputId": "ae16f43c-a7c2-4d97-f74d-c7a65632b7ef"
      },
      "source": [
        "from numpy.random import randint\r\n",
        "randint(3,10,2)"
      ],
      "execution_count": null,
      "outputs": [
        {
          "output_type": "execute_result",
          "data": {
            "text/plain": [
              "array([7, 3])"
            ]
          },
          "metadata": {
            "tags": []
          },
          "execution_count": 63
        }
      ]
    }
  ]
}