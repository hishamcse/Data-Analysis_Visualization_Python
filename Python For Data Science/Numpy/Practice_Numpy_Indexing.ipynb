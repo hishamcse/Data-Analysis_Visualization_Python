{
  "nbformat": 4,
  "nbformat_minor": 0,
  "metadata": {
    "colab": {
      "name": "Practice_Numpy Indexing.ipynb",
      "provenance": [],
      "collapsed_sections": []
    },
    "kernelspec": {
      "name": "python3",
      "display_name": "Python 3"
    }
  },
  "cells": [
    {
      "cell_type": "code",
      "metadata": {
        "colab": {
          "base_uri": "https://localhost:8080/"
        },
        "id": "Sr7dR-d5_PQC",
        "outputId": "5022df28-2e5d-4a30-b895-0be8ac4fb149"
      },
      "source": [
        "import numpy as np\r\n",
        "arr = np.arange(0,11)\r\n",
        "arr"
      ],
      "execution_count": null,
      "outputs": [
        {
          "output_type": "execute_result",
          "data": {
            "text/plain": [
              "array([ 0,  1,  2,  3,  4,  5,  6,  7,  8,  9, 10])"
            ]
          },
          "metadata": {
            "tags": []
          },
          "execution_count": 2
        }
      ]
    },
    {
      "cell_type": "code",
      "metadata": {
        "colab": {
          "base_uri": "https://localhost:8080/"
        },
        "id": "f7BSFn_qQjkw",
        "outputId": "ebdc3a2c-3110-49c5-df68-6242be05cbd6"
      },
      "source": [
        "print(arr[6])\r\n",
        "print(arr[1:6])\r\n",
        "print(arr[4:])\r\n",
        "print(arr[:8])"
      ],
      "execution_count": null,
      "outputs": [
        {
          "output_type": "stream",
          "text": [
            "6\n",
            "[1 2 3 4 5]\n",
            "[ 4  5  6  7  8  9 10]\n",
            "[0 1 2 3 4 5 6 7]\n"
          ],
          "name": "stdout"
        }
      ]
    },
    {
      "cell_type": "code",
      "metadata": {
        "colab": {
          "base_uri": "https://localhost:8080/"
        },
        "id": "QCHcMcZuRfGg",
        "outputId": "139f8841-0224-4ec7-b47d-3ba5219ee4dc"
      },
      "source": [
        "arr[:6] = 100\r\n",
        "arr"
      ],
      "execution_count": null,
      "outputs": [
        {
          "output_type": "execute_result",
          "data": {
            "text/plain": [
              "array([100, 100, 100, 100, 100, 100,   6,   7,   8,   9,  10])"
            ]
          },
          "metadata": {
            "tags": []
          },
          "execution_count": 9
        }
      ]
    },
    {
      "cell_type": "code",
      "metadata": {
        "colab": {
          "base_uri": "https://localhost:8080/"
        },
        "id": "SRqfCgpsR0ai",
        "outputId": "bed534c3-b78e-4d24-a5d7-72b416b10122"
      },
      "source": [
        "arr[:]"
      ],
      "execution_count": null,
      "outputs": [
        {
          "output_type": "execute_result",
          "data": {
            "text/plain": [
              "array([100, 100, 100, 100, 100, 100,   6,   7,   8,   9,  10])"
            ]
          },
          "metadata": {
            "tags": []
          },
          "execution_count": 10
        }
      ]
    },
    {
      "cell_type": "code",
      "metadata": {
        "colab": {
          "base_uri": "https://localhost:8080/"
        },
        "id": "cvfPPkTCR9Ue",
        "outputId": "3a93dfe0-27fc-4dd1-b3a8-f6470353a594"
      },
      "source": [
        "slice_arr = arr[:5]\r\n",
        "slice_arr"
      ],
      "execution_count": null,
      "outputs": [
        {
          "output_type": "execute_result",
          "data": {
            "text/plain": [
              "array([100, 100, 100, 100, 100])"
            ]
          },
          "metadata": {
            "tags": []
          },
          "execution_count": 11
        }
      ]
    },
    {
      "cell_type": "code",
      "metadata": {
        "colab": {
          "base_uri": "https://localhost:8080/"
        },
        "id": "PEVU2fyCSDtr",
        "outputId": "35d54313-bcc0-4846-d26c-7dfb1e8fe634"
      },
      "source": [
        "slice_arr[:4] = 200\r\n",
        "print(slice_arr)\r\n",
        "print(arr)"
      ],
      "execution_count": null,
      "outputs": [
        {
          "output_type": "stream",
          "text": [
            "[200 200 200 200 100]\n",
            "[200 200 200 200 100 100   6   7   8   9  10]\n"
          ],
          "name": "stdout"
        }
      ]
    },
    {
      "cell_type": "code",
      "metadata": {
        "colab": {
          "base_uri": "https://localhost:8080/"
        },
        "id": "i5P9SPqdSY8c",
        "outputId": "4bdff9a7-499c-42a5-f386-8d3de28e3408"
      },
      "source": [
        "arr_copy = arr.copy()\r\n",
        "arr_copy"
      ],
      "execution_count": null,
      "outputs": [
        {
          "output_type": "execute_result",
          "data": {
            "text/plain": [
              "array([200, 200, 200, 200, 100, 100,   6,   7,   8,   9,  10])"
            ]
          },
          "metadata": {
            "tags": []
          },
          "execution_count": 15
        }
      ]
    },
    {
      "cell_type": "code",
      "metadata": {
        "colab": {
          "base_uri": "https://localhost:8080/"
        },
        "id": "KlN4ra6JSeVL",
        "outputId": "8cfddf2e-6a02-4215-a134-2b5d841110da"
      },
      "source": [
        "arr_copy[:] = 100\r\n",
        "print(arr_copy)\r\n",
        "print(arr)"
      ],
      "execution_count": null,
      "outputs": [
        {
          "output_type": "stream",
          "text": [
            "[100 100 100 100 100 100 100 100 100 100 100]\n",
            "[200 200 200 200 100 100   6   7   8   9  10]\n"
          ],
          "name": "stdout"
        }
      ]
    },
    {
      "cell_type": "code",
      "metadata": {
        "colab": {
          "base_uri": "https://localhost:8080/"
        },
        "id": "ro4jT3t1THm-",
        "outputId": "c9f9aa2d-77fe-4096-890d-00d617ea0c0d"
      },
      "source": [
        "arr_2d = np.array([[1,4,3],[35,66,22],[3,6,9]])\r\n",
        "arr_2d"
      ],
      "execution_count": null,
      "outputs": [
        {
          "output_type": "execute_result",
          "data": {
            "text/plain": [
              "array([[ 1,  4,  3],\n",
              "       [35, 66, 22],\n",
              "       [ 3,  6,  9]])"
            ]
          },
          "metadata": {
            "tags": []
          },
          "execution_count": 18
        }
      ]
    },
    {
      "cell_type": "code",
      "metadata": {
        "colab": {
          "base_uri": "https://localhost:8080/"
        },
        "id": "keydjMn6TQsA",
        "outputId": "8ecba467-6a20-4c7d-f2d6-d42aa85cee20"
      },
      "source": [
        "print(arr_2d[0][0])\r\n",
        "print(arr_2d[0])\r\n",
        "print(arr_2d[0][:2])\r\n",
        "print(arr_2d[1][1])\r\n",
        "print(arr_2d[2,2])\r\n",
        "print(arr_2d[1,:2])\r\n",
        "print(arr_2d[:2,1:])\r\n",
        "print(arr_2d[:2,1])"
      ],
      "execution_count": null,
      "outputs": [
        {
          "output_type": "stream",
          "text": [
            "1\n",
            "[1 4 3]\n",
            "[1 4]\n",
            "66\n",
            "9\n",
            "[35 66]\n",
            "[[ 4  3]\n",
            " [66 22]]\n",
            "[ 4 66]\n"
          ],
          "name": "stdout"
        }
      ]
    },
    {
      "cell_type": "code",
      "metadata": {
        "colab": {
          "base_uri": "https://localhost:8080/"
        },
        "id": "pe2knrA5kNrN",
        "outputId": "68f146dd-1c14-487d-a9da-0141ff9a8ec9"
      },
      "source": [
        "bool_arr = arr > 100\r\n",
        "bool_arr"
      ],
      "execution_count": null,
      "outputs": [
        {
          "output_type": "execute_result",
          "data": {
            "text/plain": [
              "array([ True,  True,  True,  True, False, False, False, False, False,\n",
              "       False, False])"
            ]
          },
          "metadata": {
            "tags": []
          },
          "execution_count": 33
        }
      ]
    },
    {
      "cell_type": "code",
      "metadata": {
        "colab": {
          "base_uri": "https://localhost:8080/"
        },
        "id": "FJ3Xg87ukavS",
        "outputId": "163ecd9c-95fc-4fcd-e433-c59e4239189a"
      },
      "source": [
        "arr[bool_arr]"
      ],
      "execution_count": null,
      "outputs": [
        {
          "output_type": "execute_result",
          "data": {
            "text/plain": [
              "array([200, 200, 200, 200])"
            ]
          },
          "metadata": {
            "tags": []
          },
          "execution_count": 34
        }
      ]
    },
    {
      "cell_type": "code",
      "metadata": {
        "colab": {
          "base_uri": "https://localhost:8080/"
        },
        "id": "QeAsGKuUks27",
        "outputId": "b0c1332d-8298-464b-9667-854b55d9b549"
      },
      "source": [
        "arr[arr>150]"
      ],
      "execution_count": null,
      "outputs": [
        {
          "output_type": "execute_result",
          "data": {
            "text/plain": [
              "array([200, 200, 200, 200])"
            ]
          },
          "metadata": {
            "tags": []
          },
          "execution_count": 35
        }
      ]
    },
    {
      "cell_type": "code",
      "metadata": {
        "colab": {
          "base_uri": "https://localhost:8080/"
        },
        "id": "XMfbyv4ElEYv",
        "outputId": "1df2f09e-889b-4d0e-f3b5-bcb9872c88a2"
      },
      "source": [
        "arr_2dn = np.arange(50).reshape(5,10)\r\n",
        "arr_2dn"
      ],
      "execution_count": null,
      "outputs": [
        {
          "output_type": "execute_result",
          "data": {
            "text/plain": [
              "array([[ 0,  1,  2,  3,  4,  5,  6,  7,  8,  9],\n",
              "       [10, 11, 12, 13, 14, 15, 16, 17, 18, 19],\n",
              "       [20, 21, 22, 23, 24, 25, 26, 27, 28, 29],\n",
              "       [30, 31, 32, 33, 34, 35, 36, 37, 38, 39],\n",
              "       [40, 41, 42, 43, 44, 45, 46, 47, 48, 49]])"
            ]
          },
          "metadata": {
            "tags": []
          },
          "execution_count": 36
        }
      ]
    },
    {
      "cell_type": "code",
      "metadata": {
        "id": "MOWmBh0nlMuE",
        "colab": {
          "base_uri": "https://localhost:8080/"
        },
        "outputId": "d185c0d7-7d32-45c7-ef39-79d125e1d3f3"
      },
      "source": [
        "arr_2dn[1:3,3:5]"
      ],
      "execution_count": null,
      "outputs": [
        {
          "output_type": "execute_result",
          "data": {
            "text/plain": [
              "array([[13, 14],\n",
              "       [23, 24]])"
            ]
          },
          "metadata": {
            "tags": []
          },
          "execution_count": 37
        }
      ]
    }
  ]
}